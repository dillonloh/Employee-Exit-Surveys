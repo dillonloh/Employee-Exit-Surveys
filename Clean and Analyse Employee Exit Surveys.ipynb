{
 "cells": [
  {
   "cell_type": "markdown",
   "metadata": {
    "collapsed": true
   },
   "source": [
    "In this project, we work with 2 datasets containing results of exit surveys from employees of the ['Department of Education, Training and Employment' (DETE)](https://data.gov.au/dataset/ds-qld-fe96ff30-d157-4a81-851d-215f2a0fe26d/details?q=exit%20survey) (last updated on 10/07/2019) and the ['Technical and Further Education' (TAFE) institute](https://data.gov.au/dataset/ds-qld-89970a3b-182b-41ea-aea2-6f9f17b5907e/details?q=exit%20survey) (last updated on 11/09/2019) in Queensland, Australia.\n",
    "\n",
    "Some slight modifications have been made to the original datasets to make them easier to work with, including changing the encoding of the file from 'cp1252' to 'UTF-8'"
   ]
  },
  {
   "cell_type": "markdown",
   "metadata": {},
   "source": [
    "Our objective is to take on the role of a Data Analyst, and attempt to find answers to the following questions posed by our stakeholders by analysing the results of BOTH surveys as a whole:\n",
    "<ol>\n",
    "    <li>Are employees who only worked for the institutes for a short period of time resigning due to some kind of dissatisfaction? What about employees who have been there longer?</li>\n",
    "    <li>Are younger employees resigning due to some kind of dissatisfaction? What about older employees?</li>\n",
    "</ol>\n",
    "\n",
    "While a data dictionary was not provided with the dataset, we are able to use general knowledge to define a few of the important ones that we will be working with mostly:\n",
    "\n",
    "**DETE Survey**\n",
    "\n",
    "|Column|Description|\n",
    "|------|-----------|\n",
    "|ID|ID used to identify the participant of the survey|\n",
    "|SeparationType|The reason why the person's employment ended|\n",
    "|Cease Data|The year or month the person's employment ended|\n",
    "|DETE Start Date|The year the person began employment with the DETE|\n",
    "\n",
    "**TAFE Survey**\n",
    "\n",
    "|Column|Description|\n",
    "|------|-----------|\n",
    "|Record ID|An id used to identify the participant of the survey|\n",
    "|Reason for ceasing employment|The reason why the person's employment ended|\n",
    "|LengthofServiceOverall. Overall Length of Service at Institute (in years)|The length of the person's employment (in years)|"
   ]
  },
  {
   "cell_type": "code",
   "execution_count": 1,
   "metadata": {},
   "outputs": [],
   "source": [
    "# importing pandas and numpy\n",
    "\n",
    "import pandas as pd\n",
    "import numpy as np"
   ]
  },
  {
   "cell_type": "code",
   "execution_count": 2,
   "metadata": {},
   "outputs": [],
   "source": [
    "# reading the .csv files\n",
    "\n",
    "dete_survey = pd.read_csv('dete_survey.csv')\n",
    "tafe_survey = pd.read_csv('tafe_survey.csv')\n"
   ]
  },
  {
   "cell_type": "code",
   "execution_count": 3,
   "metadata": {},
   "outputs": [
    {
     "name": "stdout",
     "output_type": "stream",
     "text": [
      "DETE Surveys\n",
      "\n",
      "\n",
      "<class 'pandas.core.frame.DataFrame'>\n",
      "RangeIndex: 822 entries, 0 to 821\n",
      "Data columns (total 56 columns):\n",
      " #   Column                               Non-Null Count  Dtype \n",
      "---  ------                               --------------  ----- \n",
      " 0   ID                                   822 non-null    int64 \n",
      " 1   SeparationType                       822 non-null    object\n",
      " 2   Cease Date                           822 non-null    object\n",
      " 3   DETE Start Date                      822 non-null    object\n",
      " 4   Role Start Date                      822 non-null    object\n",
      " 5   Position                             817 non-null    object\n",
      " 6   Classification                       455 non-null    object\n",
      " 7   Region                               822 non-null    object\n",
      " 8   Business Unit                        126 non-null    object\n",
      " 9   Employment Status                    817 non-null    object\n",
      " 10  Career move to public sector         822 non-null    bool  \n",
      " 11  Career move to private sector        822 non-null    bool  \n",
      " 12  Interpersonal conflicts              822 non-null    bool  \n",
      " 13  Job dissatisfaction                  822 non-null    bool  \n",
      " 14  Dissatisfaction with the department  822 non-null    bool  \n",
      " 15  Physical work environment            822 non-null    bool  \n",
      " 16  Lack of recognition                  822 non-null    bool  \n",
      " 17  Lack of job security                 822 non-null    bool  \n",
      " 18  Work location                        822 non-null    bool  \n",
      " 19  Employment conditions                822 non-null    bool  \n",
      " 20  Maternity/family                     822 non-null    bool  \n",
      " 21  Relocation                           822 non-null    bool  \n",
      " 22  Study/Travel                         822 non-null    bool  \n",
      " 23  Ill Health                           822 non-null    bool  \n",
      " 24  Traumatic incident                   822 non-null    bool  \n",
      " 25  Work life balance                    822 non-null    bool  \n",
      " 26  Workload                             822 non-null    bool  \n",
      " 27  None of the above                    822 non-null    bool  \n",
      " 28  Professional Development             808 non-null    object\n",
      " 29  Opportunities for promotion          735 non-null    object\n",
      " 30  Staff morale                         816 non-null    object\n",
      " 31  Workplace issue                      788 non-null    object\n",
      " 32  Physical environment                 817 non-null    object\n",
      " 33  Worklife balance                     815 non-null    object\n",
      " 34  Stress and pressure support          810 non-null    object\n",
      " 35  Performance of supervisor            813 non-null    object\n",
      " 36  Peer support                         812 non-null    object\n",
      " 37  Initiative                           813 non-null    object\n",
      " 38  Skills                               811 non-null    object\n",
      " 39  Coach                                767 non-null    object\n",
      " 40  Career Aspirations                   746 non-null    object\n",
      " 41  Feedback                             792 non-null    object\n",
      " 42  Further PD                           768 non-null    object\n",
      " 43  Communication                        814 non-null    object\n",
      " 44  My say                               812 non-null    object\n",
      " 45  Information                          816 non-null    object\n",
      " 46  Kept informed                        813 non-null    object\n",
      " 47  Wellness programs                    766 non-null    object\n",
      " 48  Health & Safety                      793 non-null    object\n",
      " 49  Gender                               798 non-null    object\n",
      " 50  Age                                  811 non-null    object\n",
      " 51  Aboriginal                           16 non-null     object\n",
      " 52  Torres Strait                        3 non-null      object\n",
      " 53  South Sea                            7 non-null      object\n",
      " 54  Disability                           23 non-null     object\n",
      " 55  NESB                                 32 non-null     object\n",
      "dtypes: bool(18), int64(1), object(37)\n",
      "memory usage: 258.6+ KB\n",
      "None\n",
      "   ID                    SeparationType Cease Date DETE Start Date  \\\n",
      "0   1             Ill Health Retirement    08/2012            1984   \n",
      "1   2  Voluntary Early Retirement (VER)    08/2012      Not Stated   \n",
      "2   3  Voluntary Early Retirement (VER)    05/2012            2011   \n",
      "3   4         Resignation-Other reasons    05/2012            2005   \n",
      "4   5                    Age Retirement    05/2012            1970   \n",
      "\n",
      "  Role Start Date                                      Position  \\\n",
      "0            2004                                Public Servant   \n",
      "1      Not Stated                                Public Servant   \n",
      "2            2011                               Schools Officer   \n",
      "3            2006                                       Teacher   \n",
      "4            1989  Head of Curriculum/Head of Special Education   \n",
      "\n",
      "  Classification              Region                      Business Unit  \\\n",
      "0        A01-A04      Central Office  Corporate Strategy and Peformance   \n",
      "1        AO5-AO7      Central Office  Corporate Strategy and Peformance   \n",
      "2            NaN      Central Office               Education Queensland   \n",
      "3        Primary  Central Queensland                                NaN   \n",
      "4            NaN          South East                                NaN   \n",
      "\n",
      "     Employment Status  ...  Kept informed  Wellness programs  \\\n",
      "0  Permanent Full-time  ...              N                  N   \n",
      "1  Permanent Full-time  ...              N                  N   \n",
      "2  Permanent Full-time  ...              N                  N   \n",
      "3  Permanent Full-time  ...              A                  N   \n",
      "4  Permanent Full-time  ...              N                  A   \n",
      "\n",
      "   Health & Safety  Gender          Age  Aboriginal  Torres Strait  South Sea  \\\n",
      "0                N    Male        56-60         NaN            NaN        NaN   \n",
      "1                N    Male        56-60         NaN            NaN        NaN   \n",
      "2                N    Male  61 or older         NaN            NaN        NaN   \n",
      "3                A  Female        36-40         NaN            NaN        NaN   \n",
      "4                M  Female  61 or older         NaN            NaN        NaN   \n",
      "\n",
      "   Disability  NESB  \n",
      "0         NaN   Yes  \n",
      "1         NaN   NaN  \n",
      "2         NaN   NaN  \n",
      "3         NaN   NaN  \n",
      "4         NaN   NaN  \n",
      "\n",
      "[5 rows x 56 columns]\n",
      "\n",
      "\n",
      "TAFE Surveys\n",
      "\n",
      "\n",
      "<class 'pandas.core.frame.DataFrame'>\n",
      "RangeIndex: 702 entries, 0 to 701\n",
      "Data columns (total 72 columns):\n",
      " #   Column                                                                                                                                                         Non-Null Count  Dtype  \n",
      "---  ------                                                                                                                                                         --------------  -----  \n",
      " 0   Record ID                                                                                                                                                      702 non-null    float64\n",
      " 1   Institute                                                                                                                                                      702 non-null    object \n",
      " 2   WorkArea                                                                                                                                                       702 non-null    object \n",
      " 3   CESSATION YEAR                                                                                                                                                 695 non-null    float64\n",
      " 4   Reason for ceasing employment                                                                                                                                  701 non-null    object \n",
      " 5   Contributing Factors. Career Move - Public Sector                                                                                                              437 non-null    object \n",
      " 6   Contributing Factors. Career Move - Private Sector                                                                                                             437 non-null    object \n",
      " 7   Contributing Factors. Career Move - Self-employment                                                                                                            437 non-null    object \n",
      " 8   Contributing Factors. Ill Health                                                                                                                               437 non-null    object \n",
      " 9   Contributing Factors. Maternity/Family                                                                                                                         437 non-null    object \n",
      " 10  Contributing Factors. Dissatisfaction                                                                                                                          437 non-null    object \n",
      " 11  Contributing Factors. Job Dissatisfaction                                                                                                                      437 non-null    object \n",
      " 12  Contributing Factors. Interpersonal Conflict                                                                                                                   437 non-null    object \n",
      " 13  Contributing Factors. Study                                                                                                                                    437 non-null    object \n",
      " 14  Contributing Factors. Travel                                                                                                                                   437 non-null    object \n",
      " 15  Contributing Factors. Other                                                                                                                                    437 non-null    object \n",
      " 16  Contributing Factors. NONE                                                                                                                                     437 non-null    object \n",
      " 17  Main Factor. Which of these was the main factor for leaving?                                                                                                   113 non-null    object \n",
      " 18  InstituteViews. Topic:1. I feel the senior leadership had a clear vision and direction                                                                         608 non-null    object \n",
      " 19  InstituteViews. Topic:2. I was given access to skills training to help me do my job better                                                                     613 non-null    object \n",
      " 20  InstituteViews. Topic:3. I was given adequate opportunities for personal development                                                                           610 non-null    object \n",
      " 21  InstituteViews. Topic:4. I was given adequate opportunities for promotion within %Institute]Q25LBL%                                                            608 non-null    object \n",
      " 22  InstituteViews. Topic:5. I felt the salary for the job was right for the responsibilities I had                                                                615 non-null    object \n",
      " 23  InstituteViews. Topic:6. The organisation recognised when staff did good work                                                                                  607 non-null    object \n",
      " 24  InstituteViews. Topic:7. Management was generally supportive of me                                                                                             614 non-null    object \n",
      " 25  InstituteViews. Topic:8. Management was generally supportive of my team                                                                                        608 non-null    object \n",
      " 26  InstituteViews. Topic:9. I was kept informed of the changes in the organisation which would affect me                                                          610 non-null    object \n",
      " 27  InstituteViews. Topic:10. Staff morale was positive within the Institute                                                                                       602 non-null    object \n",
      " 28  InstituteViews. Topic:11. If I had a workplace issue it was dealt with quickly                                                                                 601 non-null    object \n",
      " 29  InstituteViews. Topic:12. If I had a workplace issue it was dealt with efficiently                                                                             597 non-null    object \n",
      " 30  InstituteViews. Topic:13. If I had a workplace issue it was dealt with discreetly                                                                              601 non-null    object \n",
      " 31  WorkUnitViews. Topic:14. I was satisfied with the quality of the management and supervision within my work unit                                                609 non-null    object \n",
      " 32  WorkUnitViews. Topic:15. I worked well with my colleagues                                                                                                      605 non-null    object \n",
      " 33  WorkUnitViews. Topic:16. My job was challenging and interesting                                                                                                607 non-null    object \n",
      " 34  WorkUnitViews. Topic:17. I was encouraged to use my initiative in the course of my work                                                                        610 non-null    object \n",
      " 35  WorkUnitViews. Topic:18. I had sufficient contact with other people in my job                                                                                  613 non-null    object \n",
      " 36  WorkUnitViews. Topic:19. I was given adequate support and co-operation by my peers to enable me to do my job                                                   609 non-null    object \n",
      " 37  WorkUnitViews. Topic:20. I was able to use the full range of my skills in my job                                                                               609 non-null    object \n",
      " 38  WorkUnitViews. Topic:21. I was able to use the full range of my abilities in my job. ; Category:Level of Agreement; Question:YOUR VIEWS ABOUT YOUR WORK UNIT]  608 non-null    object \n",
      " 39  WorkUnitViews. Topic:22. I was able to use the full range of my knowledge in my job                                                                            608 non-null    object \n",
      " 40  WorkUnitViews. Topic:23. My job provided sufficient variety                                                                                                    611 non-null    object \n",
      " 41  WorkUnitViews. Topic:24. I was able to cope with the level of stress and pressure in my job                                                                    610 non-null    object \n",
      " 42  WorkUnitViews. Topic:25. My job allowed me to balance the demands of work and family to my satisfaction                                                        611 non-null    object \n",
      " 43  WorkUnitViews. Topic:26. My supervisor gave me adequate personal recognition and feedback on my performance                                                    606 non-null    object \n",
      " 44  WorkUnitViews. Topic:27. My working environment was satisfactory e.g. sufficient space, good lighting, suitable seating and working area                       610 non-null    object \n",
      " 45  WorkUnitViews. Topic:28. I was given the opportunity to mentor and coach others in order for me to pass on my skills and knowledge prior to my cessation date  609 non-null    object \n",
      " 46  WorkUnitViews. Topic:29. There was adequate communication between staff in my unit                                                                             603 non-null    object \n",
      " 47  WorkUnitViews. Topic:30. Staff morale was positive within my work unit                                                                                         606 non-null    object \n",
      " 48  Induction. Did you undertake Workplace Induction?                                                                                                              619 non-null    object \n",
      " 49  InductionInfo. Topic:Did you undertake a Corporate Induction?                                                                                                  432 non-null    object \n",
      " 50  InductionInfo. Topic:Did you undertake a Institute Induction?                                                                                                  483 non-null    object \n",
      " 51  InductionInfo. Topic: Did you undertake Team Induction?                                                                                                        440 non-null    object \n",
      " 52  InductionInfo. Face to Face Topic:Did you undertake a Corporate Induction; Category:How it was conducted?                                                      555 non-null    object \n",
      " 53  InductionInfo. On-line Topic:Did you undertake a Corporate Induction; Category:How it was conducted?                                                           555 non-null    object \n",
      " 54  InductionInfo. Induction Manual Topic:Did you undertake a Corporate Induction?                                                                                 555 non-null    object \n",
      " 55  InductionInfo. Face to Face Topic:Did you undertake a Institute Induction?                                                                                     530 non-null    object \n",
      " 56  InductionInfo. On-line Topic:Did you undertake a Institute Induction?                                                                                          555 non-null    object \n",
      " 57  InductionInfo. Induction Manual Topic:Did you undertake a Institute Induction?                                                                                 553 non-null    object \n",
      " 58  InductionInfo. Face to Face Topic: Did you undertake Team Induction; Category?                                                                                 555 non-null    object \n",
      " 59  InductionInfo. On-line Topic: Did you undertake Team Induction?process you undertook and how it was conducted.]                                                555 non-null    object \n",
      " 60  InductionInfo. Induction Manual Topic: Did you undertake Team Induction?                                                                                       555 non-null    object \n",
      " 61  Workplace. Topic:Did you and your Manager develop a Performance and Professional Development Plan (PPDP)?                                                      608 non-null    object \n",
      " 62  Workplace. Topic:Does your workplace promote a work culture free from all forms of unlawful discrimination?                                                    594 non-null    object \n",
      " 63  Workplace. Topic:Does your workplace promote and practice the principles of employment equity?                                                                 587 non-null    object \n",
      " 64  Workplace. Topic:Does your workplace value the diversity of its employees?                                                                                     586 non-null    object \n",
      " 65  Workplace. Topic:Would you recommend the Institute as an employer to others?                                                                                   581 non-null    object \n",
      " 66  Gender. What is your Gender?                                                                                                                                   596 non-null    object \n",
      " 67  CurrentAge. Current Age                                                                                                                                        596 non-null    object \n",
      " 68  Employment Type. Employment Type                                                                                                                               596 non-null    object \n",
      " 69  Classification. Classification                                                                                                                                 596 non-null    object \n",
      " 70  LengthofServiceOverall. Overall Length of Service at Institute (in years)                                                                                      596 non-null    object \n",
      " 71  LengthofServiceCurrent. Length of Service at current workplace (in years)                                                                                      596 non-null    object \n",
      "dtypes: float64(2), object(70)\n",
      "memory usage: 395.0+ KB\n",
      "None\n",
      "      Record ID                              Institute  \\\n",
      "0  6.341330e+17  Southern Queensland Institute of TAFE   \n",
      "1  6.341337e+17            Mount Isa Institute of TAFE   \n",
      "2  6.341388e+17            Mount Isa Institute of TAFE   \n",
      "3  6.341399e+17            Mount Isa Institute of TAFE   \n",
      "4  6.341466e+17  Southern Queensland Institute of TAFE   \n",
      "\n",
      "                   WorkArea  CESSATION YEAR Reason for ceasing employment  \\\n",
      "0  Non-Delivery (corporate)          2010.0              Contract Expired   \n",
      "1  Non-Delivery (corporate)          2010.0                    Retirement   \n",
      "2       Delivery (teaching)          2010.0                    Retirement   \n",
      "3  Non-Delivery (corporate)          2010.0                   Resignation   \n",
      "4       Delivery (teaching)          2010.0                   Resignation   \n",
      "\n",
      "  Contributing Factors. Career Move - Public Sector   \\\n",
      "0                                                NaN   \n",
      "1                                                  -   \n",
      "2                                                  -   \n",
      "3                                                  -   \n",
      "4                                                  -   \n",
      "\n",
      "  Contributing Factors. Career Move - Private Sector   \\\n",
      "0                                                NaN    \n",
      "1                                                  -    \n",
      "2                                                  -    \n",
      "3                                                  -    \n",
      "4                       Career Move - Private Sector    \n",
      "\n",
      "  Contributing Factors. Career Move - Self-employment  \\\n",
      "0                                                NaN    \n",
      "1                                                  -    \n",
      "2                                                  -    \n",
      "3                                                  -    \n",
      "4                                                  -    \n",
      "\n",
      "  Contributing Factors. Ill Health Contributing Factors. Maternity/Family  \\\n",
      "0                              NaN                                    NaN   \n",
      "1                                -                                      -   \n",
      "2                                -                                      -   \n",
      "3                                -                                      -   \n",
      "4                                -                                      -   \n",
      "\n",
      "   ...  \\\n",
      "0  ...   \n",
      "1  ...   \n",
      "2  ...   \n",
      "3  ...   \n",
      "4  ...   \n",
      "\n",
      "  Workplace. Topic:Does your workplace promote a work culture free from all forms of unlawful discrimination?  \\\n",
      "0                                                Yes                                                            \n",
      "1                                                Yes                                                            \n",
      "2                                                Yes                                                            \n",
      "3                                                Yes                                                            \n",
      "4                                                Yes                                                            \n",
      "\n",
      "  Workplace. Topic:Does your workplace promote and practice the principles of employment equity?  \\\n",
      "0                                                Yes                                               \n",
      "1                                                Yes                                               \n",
      "2                                                Yes                                               \n",
      "3                                                Yes                                               \n",
      "4                                                Yes                                               \n",
      "\n",
      "  Workplace. Topic:Does your workplace value the diversity of its employees?  \\\n",
      "0                                                Yes                           \n",
      "1                                                Yes                           \n",
      "2                                                Yes                           \n",
      "3                                                Yes                           \n",
      "4                                                Yes                           \n",
      "\n",
      "  Workplace. Topic:Would you recommend the Institute as an employer to others?  \\\n",
      "0                                                Yes                             \n",
      "1                                                Yes                             \n",
      "2                                                Yes                             \n",
      "3                                                Yes                             \n",
      "4                                                Yes                             \n",
      "\n",
      "  Gender. What is your Gender? CurrentAge. Current Age  \\\n",
      "0                       Female                  26  30   \n",
      "1                          NaN                     NaN   \n",
      "2                          NaN                     NaN   \n",
      "3                          NaN                     NaN   \n",
      "4                         Male                  41  45   \n",
      "\n",
      "  Employment Type. Employment Type Classification. Classification  \\\n",
      "0              Temporary Full-time            Administration (AO)   \n",
      "1                              NaN                            NaN   \n",
      "2                              NaN                            NaN   \n",
      "3                              NaN                            NaN   \n",
      "4              Permanent Full-time        Teacher (including LVT)   \n",
      "\n",
      "  LengthofServiceOverall. Overall Length of Service at Institute (in years)  \\\n",
      "0                                                1-2                          \n",
      "1                                                NaN                          \n",
      "2                                                NaN                          \n",
      "3                                                NaN                          \n",
      "4                                                3-4                          \n",
      "\n",
      "  LengthofServiceCurrent. Length of Service at current workplace (in years)  \n",
      "0                                                1-2                         \n",
      "1                                                NaN                         \n",
      "2                                                NaN                         \n",
      "3                                                NaN                         \n",
      "4                                                3-4                         \n",
      "\n",
      "[5 rows x 72 columns]\n"
     ]
    }
   ],
   "source": [
    "# printing first few rows and info from each survey\n",
    "\n",
    "print('DETE Surveys\\n\\n')\n",
    "\n",
    "print(dete_survey.info())\n",
    "print(dete_survey.head())\n",
    "\n",
    "print('\\n\\nTAFE Surveys\\n\\n')\n",
    "\n",
    "print(tafe_survey.info())\n",
    "print(tafe_survey.head())"
   ]
  },
  {
   "cell_type": "code",
   "execution_count": 4,
   "metadata": {},
   "outputs": [
    {
     "name": "stdout",
     "output_type": "stream",
     "text": [
      "DETE Surveys\n",
      "\n",
      "\n",
      "Age Retirement                          285\n",
      "Resignation-Other reasons               150\n",
      "Resignation-Other employer               91\n",
      "Resignation-Move overseas/interstate     70\n",
      "Voluntary Early Retirement (VER)         67\n",
      "Ill Health Retirement                    61\n",
      "Other                                    49\n",
      "Contract Expired                         34\n",
      "Termination                              15\n",
      "Name: SeparationType, dtype: int64\n",
      "\n",
      "ID                                       0\n",
      "SeparationType                           0\n",
      "Cease Date                               0\n",
      "DETE Start Date                          0\n",
      "Role Start Date                          0\n",
      "Position                                 5\n",
      "Classification                         367\n",
      "Region                                   0\n",
      "Business Unit                          696\n",
      "Employment Status                        5\n",
      "Career move to public sector             0\n",
      "Career move to private sector            0\n",
      "Interpersonal conflicts                  0\n",
      "Job dissatisfaction                      0\n",
      "Dissatisfaction with the department      0\n",
      "Physical work environment                0\n",
      "Lack of recognition                      0\n",
      "Lack of job security                     0\n",
      "Work location                            0\n",
      "Employment conditions                    0\n",
      "Maternity/family                         0\n",
      "Relocation                               0\n",
      "Study/Travel                             0\n",
      "Ill Health                               0\n",
      "Traumatic incident                       0\n",
      "Work life balance                        0\n",
      "Workload                                 0\n",
      "None of the above                        0\n",
      "Professional Development                14\n",
      "Opportunities for promotion             87\n",
      "Staff morale                             6\n",
      "Workplace issue                         34\n",
      "Physical environment                     5\n",
      "Worklife balance                         7\n",
      "Stress and pressure support             12\n",
      "Performance of supervisor                9\n",
      "Peer support                            10\n",
      "Initiative                               9\n",
      "Skills                                  11\n",
      "Coach                                   55\n",
      "Career Aspirations                      76\n",
      "Feedback                                30\n",
      "Further PD                              54\n",
      "Communication                            8\n",
      "My say                                  10\n",
      "Information                              6\n",
      "Kept informed                            9\n",
      "Wellness programs                       56\n",
      "Health & Safety                         29\n",
      "Gender                                  24\n",
      "Age                                     11\n",
      "Aboriginal                             806\n",
      "Torres Strait                          819\n",
      "South Sea                              815\n",
      "Disability                             799\n",
      "NESB                                   790\n",
      "dtype: int64\n",
      "\n",
      "\n",
      "TAFE Surveys\n",
      "\n",
      "\n",
      "Resignation                 340\n",
      "Contract Expired            127\n",
      "Retrenchment/ Redundancy    104\n",
      "Retirement                   82\n",
      "Transfer                     25\n",
      "Termination                  23\n",
      "Name: Reason for ceasing employment, dtype: int64\n",
      "\n",
      "Record ID                                                                      0\n",
      "Institute                                                                      0\n",
      "WorkArea                                                                       0\n",
      "CESSATION YEAR                                                                 7\n",
      "Reason for ceasing employment                                                  1\n",
      "                                                                            ... \n",
      "CurrentAge. Current Age                                                      106\n",
      "Employment Type. Employment Type                                             106\n",
      "Classification. Classification                                               106\n",
      "LengthofServiceOverall. Overall Length of Service at Institute (in years)    106\n",
      "LengthofServiceCurrent. Length of Service at current workplace (in years)    106\n",
      "Length: 72, dtype: int64\n"
     ]
    }
   ],
   "source": [
    "print('DETE Surveys\\n\\n')\n",
    "\n",
    "print(dete_survey['SeparationType'].value_counts())\n",
    "print('')\n",
    "print(dete_survey.isnull().sum())\n",
    "\n",
    "print('\\n\\nTAFE Surveys\\n\\n')\n",
    "\n",
    "print(tafe_survey['Reason for ceasing employment'].value_counts())\n",
    "print('')\n",
    "print(tafe_survey.isnull().sum())\n"
   ]
  },
  {
   "cell_type": "markdown",
   "metadata": {},
   "source": [
    "Initial observations of the dataset reveal the following:\n",
    "\n",
    "<ul>\n",
    "    <li>There are 822 entries in total for DETE</li>\n",
    "    <li>There are 702 entries in total for TAFE</li>\n",
    "    <li>dtypes for dates are objects; not datetime yet</li>\n",
    "    <li>The TAFE dataset has a significant amount of missing values for 'LengthofServiceOverall' (106)</li>\n",
    "    <li>The DETE dataset contains 'Not Stated' values, which represents missing data</li>\n",
    "    <li>The TAFE dataset contains '-' values</li>\n",
    "</ul>\n",
    "\n",
    "We hence first re-read the DETE dataset and use the pd.read_csv() function to read 'Not Stated' as 'NaN'. Then, we drop columns we won't be using in our analysis to remove excess clutter from both datasets.\n"
   ]
  },
  {
   "cell_type": "code",
   "execution_count": 5,
   "metadata": {},
   "outputs": [],
   "source": [
    "# re-reading DETE dataset\n",
    "\n",
    "dete_survey = pd.read_csv('dete_survey.csv', na_values='Not Stated')"
   ]
  },
  {
   "cell_type": "code",
   "execution_count": 6,
   "metadata": {},
   "outputs": [],
   "source": [
    "# removing columns from DETE\n",
    "\n",
    "dete_survey_updated = dete_survey.drop(dete_survey.columns[28:49], axis=1)"
   ]
  },
  {
   "cell_type": "code",
   "execution_count": 7,
   "metadata": {},
   "outputs": [],
   "source": [
    "# removing columns from TAFE\n",
    "\n",
    "tafe_survey_updated = tafe_survey.drop(tafe_survey.columns[17:66], axis=1)"
   ]
  },
  {
   "cell_type": "markdown",
   "metadata": {},
   "source": [
    "In both dataframes, there are columns which contain the same information with slight differences in the naming convention. Since we wish to analyse both dataframes together, we need to standardise the names before merging them later.\n",
    "\n",
    "**DETE Surveys**\n",
    "\n",
    "We will rename them via the following criteria:\n",
    "<ul>\n",
    "    <li>Make all the capitalization lowercase.</li>\n",
    "    <li>Remove any trailing whitespace from the end of the strings.</li>\n",
    "    <li>Replace spaces with underscores ('_').</li>\n",
    "</ul>\n",
    "\n",
    "**TAFE Surveys**\n",
    "\n",
    "We will rename them as per follows:\n",
    "<ul>\n",
    "    <li>'Record ID': 'id'</li>\n",
    "    <li>'CESSATION YEAR': 'cease_date'\n",
    "    <li>'Reason for ceasing employment': 'separationtype'\n",
    "    <li>'Gender. What is your Gender?': 'gender'\n",
    "    <li>'CurrentAge. Current Age': 'age'\n",
    "    <li>'Employment Type. Employment Type': 'employment_status'\n",
    "    <li>'Classification. Classification': 'position'\n",
    "    <li>'LengthofServiceOverall. Overall Length of Service at Institute (in years)': 'institute_service'\n",
    "    <li>'LengthofServiceCurrent. Length of Service at current workplace (in years)': 'role_service'\n",
    "</ul>"
   ]
  },
  {
   "cell_type": "code",
   "execution_count": 8,
   "metadata": {},
   "outputs": [],
   "source": [
    "# renaming DETE df columns\n",
    "\n",
    "dete_survey_updated.columns = dete_survey_updated.columns.str.replace(' ', '_').str.strip().str.lower()\n",
    "\n",
    "# renaming TAFE df columns\n",
    "\n",
    "rename_dict = {'Record ID': 'id',\n",
    "              'CESSATION YEAR': 'cease_date',\n",
    "              'Reason for ceasing employment': 'separationtype',\n",
    "              'Gender. What is your Gender?': 'gender',               \n",
    "              'Employment Type. Employment Type': 'employment_status',\n",
    "              'CurrentAge. Current Age': 'age',\n",
    "              'Classification. Classification': 'position',\n",
    "              'LengthofServiceOverall. Overall Length of Service at Institute (in years)': 'institute_service',\n",
    "              'LengthofServiceCurrent. Length of Service at current workplace (in years)': 'role_service',\n",
    "              }\n",
    "tafe_survey_updated.rename(mapper=rename_dict, axis=1, inplace=True)\n"
   ]
  },
  {
   "cell_type": "code",
   "execution_count": 9,
   "metadata": {},
   "outputs": [
    {
     "name": "stdout",
     "output_type": "stream",
     "text": [
      "Index(['id', 'separationtype', 'cease_date', 'dete_start_date',\n",
      "       'role_start_date', 'position', 'classification', 'region',\n",
      "       'business_unit', 'employment_status', 'career_move_to_public_sector',\n",
      "       'career_move_to_private_sector', 'interpersonal_conflicts',\n",
      "       'job_dissatisfaction', 'dissatisfaction_with_the_department',\n",
      "       'physical_work_environment', 'lack_of_recognition',\n",
      "       'lack_of_job_security', 'work_location', 'employment_conditions',\n",
      "       'maternity/family', 'relocation', 'study/travel', 'ill_health',\n",
      "       'traumatic_incident', 'work_life_balance', 'workload',\n",
      "       'none_of_the_above', 'gender', 'age', 'aboriginal', 'torres_strait',\n",
      "       'south_sea', 'disability', 'nesb'],\n",
      "      dtype='object')\n"
     ]
    }
   ],
   "source": [
    "# checking if renaming went well\n",
    "print(dete_survey_updated.columns)"
   ]
  },
  {
   "cell_type": "code",
   "execution_count": 10,
   "metadata": {},
   "outputs": [
    {
     "name": "stdout",
     "output_type": "stream",
     "text": [
      "Index(['id', 'Institute', 'WorkArea', 'cease_date', 'separationtype',\n",
      "       'Contributing Factors. Career Move - Public Sector ',\n",
      "       'Contributing Factors. Career Move - Private Sector ',\n",
      "       'Contributing Factors. Career Move - Self-employment',\n",
      "       'Contributing Factors. Ill Health',\n",
      "       'Contributing Factors. Maternity/Family',\n",
      "       'Contributing Factors. Dissatisfaction',\n",
      "       'Contributing Factors. Job Dissatisfaction',\n",
      "       'Contributing Factors. Interpersonal Conflict',\n",
      "       'Contributing Factors. Study', 'Contributing Factors. Travel',\n",
      "       'Contributing Factors. Other', 'Contributing Factors. NONE', 'gender',\n",
      "       'age', 'employment_status', 'position', 'institute_service',\n",
      "       'role_service'],\n",
      "      dtype='object')\n"
     ]
    }
   ],
   "source": [
    "# checking if renaming went well\n",
    "print(tafe_survey_updated.columns)"
   ]
  },
  {
   "cell_type": "markdown",
   "metadata": {},
   "source": [
    "As we are only focusing on people who have RESIGNED from their jobs, we will be filtering out our entries such that only those who have left the job by resigning are left. We do this by checking the 'separationtype' column.\n",
    "\n",
    "Note that dete_survey_updated dataframe contains multiple separation types with the string 'Resignation':\n",
    "<ul>\n",
    "    <li>Resignation-Other reasons</li>\n",
    "    <li>Resignation-Other employer</li>\n",
    "    <li>Resignation-Move overseas/interstate</li>\n",
    "</ul>\n",
    "\n",
    "We will deal with these variations individually.\n"
   ]
  },
  {
   "cell_type": "code",
   "execution_count": 11,
   "metadata": {},
   "outputs": [
    {
     "name": "stdout",
     "output_type": "stream",
     "text": [
      "Age Retirement                          285\n",
      "Resignation-Other reasons               150\n",
      "Resignation-Other employer               91\n",
      "Resignation-Move overseas/interstate     70\n",
      "Voluntary Early Retirement (VER)         67\n",
      "Ill Health Retirement                    61\n",
      "Other                                    49\n",
      "Contract Expired                         34\n",
      "Termination                              15\n",
      "Name: separationtype, dtype: int64\n",
      "\n",
      "Resignation                 340\n",
      "Contract Expired            127\n",
      "Retrenchment/ Redundancy    104\n",
      "Retirement                   82\n",
      "Transfer                     25\n",
      "Termination                  23\n",
      "Name: separationtype, dtype: int64\n"
     ]
    }
   ],
   "source": [
    "# checking the unique values in the 'separationtype' column for both datasets\n",
    "\n",
    "print(dete_survey_updated['separationtype'].value_counts())\n",
    "print('')\n",
    "print(tafe_survey_updated['separationtype'].value_counts())"
   ]
  },
  {
   "cell_type": "code",
   "execution_count": 12,
   "metadata": {},
   "outputs": [],
   "source": [
    "# filtering datasets\n",
    "\n",
    "dete_resignations = dete_survey_updated[(dete_survey_updated['separationtype'] == 'Resignation-Other reasons') |\n",
    "                                       (dete_survey_updated['separationtype'] == 'Resignation-Other employer') |\n",
    "                                       (dete_survey_updated['separationtype'] == 'Resignation-Move overseas/interstate')].copy()\n",
    "\n",
    "tafe_resignations = tafe_survey_updated[tafe_survey_updated['separationtype'] == 'Resignation'].copy()\n"
   ]
  },
  {
   "cell_type": "code",
   "execution_count": 13,
   "metadata": {},
   "outputs": [
    {
     "name": "stdout",
     "output_type": "stream",
     "text": [
      "Resignation-Other reasons               150\n",
      "Resignation-Other employer               91\n",
      "Resignation-Move overseas/interstate     70\n",
      "Name: separationtype, dtype: int64\n",
      "\n",
      "Resignation    340\n",
      "Name: separationtype, dtype: int64\n"
     ]
    }
   ],
   "source": [
    "# checking the filtered datasets\n",
    "\n",
    "print(dete_resignations['separationtype'].value_counts())\n",
    "print('')\n",
    "print(tafe_resignations['separationtype'].value_counts())"
   ]
  },
  {
   "cell_type": "markdown",
   "metadata": {},
   "source": [
    "To ensure that our data is not corrupted and looks reasonable, we will be checking the data of several columns. The first of these will be the 'cease_date' and 'dete_start_date' columns. In particular, since the cease_date is the last year of the person's employment and the dete_start_date is the person's first year of employment, it wouldn't make sense to have years after the current date (2019).\n",
    "\n",
    "Given that most people in this field start working in their 20s, it's also unlikely that the dete_start_date was before the year 1940.\n",
    "\n",
    "If we have many years higher than the current date or lower than 1940, we wouldn't want to continue with our analysis, because it could mean there's something very wrong with the data. If there are a small amount of values that are unrealistically high or low, we can remove them."
   ]
  },
  {
   "cell_type": "code",
   "execution_count": 14,
   "metadata": {},
   "outputs": [
    {
     "name": "stdout",
     "output_type": "stream",
     "text": [
      "2012       126\n",
      "2013        74\n",
      "01/2014     22\n",
      "12/2013     17\n",
      "06/2013     14\n",
      "09/2013     11\n",
      "07/2013      9\n",
      "11/2013      9\n",
      "10/2013      6\n",
      "08/2013      4\n",
      "05/2012      2\n",
      "05/2013      2\n",
      "09/2010      1\n",
      "07/2006      1\n",
      "07/2012      1\n",
      "2010         1\n",
      "Name: cease_date, dtype: int64\n",
      "\n",
      "3      2005.0\n",
      "5      1994.0\n",
      "8      2009.0\n",
      "9      1997.0\n",
      "11     2009.0\n",
      "        ...  \n",
      "808    2010.0\n",
      "815    2012.0\n",
      "816    2012.0\n",
      "819    2009.0\n",
      "821       NaN\n",
      "Name: dete_start_date, Length: 311, dtype: float64\n",
      "\n",
      "3      2010.0\n",
      "4      2010.0\n",
      "5      2010.0\n",
      "6      2010.0\n",
      "7      2010.0\n",
      "        ...  \n",
      "696    2013.0\n",
      "697    2013.0\n",
      "698    2013.0\n",
      "699    2013.0\n",
      "701    2013.0\n",
      "Name: cease_date, Length: 340, dtype: float64\n"
     ]
    }
   ],
   "source": [
    "print(dete_resignations['cease_date'].value_counts())\n",
    "print('')\n",
    "print(dete_resignations['dete_start_date'])\n",
    "print('')\n",
    "print(tafe_resignations['cease_date'])"
   ]
  },
  {
   "cell_type": "code",
   "execution_count": 15,
   "metadata": {},
   "outputs": [],
   "source": [
    "# begin by cleaning the date columns\n",
    "# extracting the year from DETE's 'cease_date' column entries and putting into a new column 'cease_year'\n",
    "\n",
    "dete_resignations['cease_year'] = dete_resignations['cease_date'].str.extract(r'(20[0,1][0-6])').astype(float)\n",
    "\n"
   ]
  },
  {
   "cell_type": "code",
   "execution_count": 16,
   "metadata": {},
   "outputs": [
    {
     "name": "stdout",
     "output_type": "stream",
     "text": [
      "2006.0      1\n",
      "2010.0      2\n",
      "2012.0    129\n",
      "2013.0    146\n",
      "2014.0     22\n",
      "Name: cease_year, dtype: int64\n",
      "\n",
      "1963.0     1\n",
      "1971.0     1\n",
      "1972.0     1\n",
      "1973.0     1\n",
      "1974.0     2\n",
      "1975.0     1\n",
      "1976.0     2\n",
      "1977.0     1\n",
      "1980.0     5\n",
      "1982.0     1\n",
      "1983.0     2\n",
      "1984.0     1\n",
      "1985.0     3\n",
      "1986.0     3\n",
      "1987.0     1\n",
      "1988.0     4\n",
      "1989.0     4\n",
      "1990.0     5\n",
      "1991.0     4\n",
      "1992.0     6\n",
      "1993.0     5\n",
      "1994.0     6\n",
      "1995.0     4\n",
      "1996.0     6\n",
      "1997.0     5\n",
      "1998.0     6\n",
      "1999.0     8\n",
      "2000.0     9\n",
      "2001.0     3\n",
      "2002.0     6\n",
      "2003.0     6\n",
      "2004.0    14\n",
      "2005.0    15\n",
      "2006.0    13\n",
      "2007.0    21\n",
      "2008.0    22\n",
      "2009.0    13\n",
      "2010.0    17\n",
      "2011.0    24\n",
      "2012.0    21\n",
      "2013.0    10\n",
      "Name: dete_start_date, dtype: int64\n",
      "\n",
      "2009.0      2\n",
      "2010.0     68\n",
      "2011.0    116\n",
      "2012.0     94\n",
      "2013.0     55\n",
      "Name: cease_date, dtype: int64\n"
     ]
    }
   ],
   "source": [
    "# now we can check the values that show up in the various date columns\n",
    "# we do so by arranging the value_counts series of each column in ascending order and check the tail and head\n",
    "\n",
    "print(dete_resignations['cease_year'].value_counts().sort_index(ascending=True))\n",
    "print('')\n",
    "print(dete_resignations['dete_start_date'].value_counts().sort_index(ascending=True))\n",
    "print('')\n",
    "print(tafe_resignations['cease_date'].value_counts().sort_index(ascending=True))"
   ]
  },
  {
   "cell_type": "markdown",
   "metadata": {},
   "source": [
    "We hence observe and conclude that there are no anomalous data in the above columns."
   ]
  },
  {
   "cell_type": "markdown",
   "metadata": {},
   "source": [
    "In order to answer our first question, we need to have the years of service of both DETE and TAFE ex-employees. While such a column is readily available in the TAFE dataset ('institute_service'), we need to create one for the DETE dataset by subtracting the 'dete_start_date' from the 'cease_year'."
   ]
  },
  {
   "cell_type": "code",
   "execution_count": 17,
   "metadata": {},
   "outputs": [],
   "source": [
    "# creating an 'institute_service' column in the DETE df\n",
    "\n",
    "dete_resignations['institute_service'] = dete_resignations['cease_year'] - dete_resignations['dete_start_date']\n"
   ]
  },
  {
   "cell_type": "code",
   "execution_count": 18,
   "metadata": {},
   "outputs": [
    {
     "name": "stdout",
     "output_type": "stream",
     "text": [
      "5.0     23\n",
      "1.0     22\n",
      "0.0     20\n",
      "3.0     20\n",
      "6.0     17\n",
      "4.0     16\n",
      "2.0     14\n",
      "9.0     14\n",
      "7.0     13\n",
      "13.0     8\n",
      "8.0      8\n",
      "20.0     7\n",
      "15.0     7\n",
      "12.0     6\n",
      "22.0     6\n",
      "10.0     6\n",
      "14.0     6\n",
      "17.0     6\n",
      "18.0     5\n",
      "16.0     5\n",
      "11.0     4\n",
      "24.0     4\n",
      "23.0     4\n",
      "39.0     3\n",
      "19.0     3\n",
      "32.0     3\n",
      "21.0     3\n",
      "36.0     2\n",
      "26.0     2\n",
      "30.0     2\n",
      "25.0     2\n",
      "28.0     2\n",
      "49.0     1\n",
      "27.0     1\n",
      "41.0     1\n",
      "34.0     1\n",
      "29.0     1\n",
      "31.0     1\n",
      "33.0     1\n",
      "42.0     1\n",
      "38.0     1\n",
      "35.0     1\n",
      "Name: institute_service, dtype: int64\n"
     ]
    }
   ],
   "source": [
    "print(dete_resignations['institute_service'].value_counts())"
   ]
  },
  {
   "cell_type": "markdown",
   "metadata": {},
   "source": [
    "We now need to define what reasons for resignation can be considered as employees being dissatisfied. The following reasons (as found in the respective dataframes) have been chosen as such.\n",
    "\n",
    "**TAFE Surveys**\n",
    "\n",
    "<ul>\n",
    "    <li>Contributing Factors. Dissatisfaction\n",
    "    <li>Contributing Factors. Job Dissatisfaction\n",
    "</ul>\n",
    "\n",
    "**DETE Surveys**\n",
    "\n",
    "<ul>\n",
    "    <li>job_dissatisfaction\n",
    "    <li>dissatisfaction_with_the_department\n",
    "    <li>physical_work_environment\n",
    "    <li>lack_of_recognition\n",
    "    <li>lack_of_job_security\n",
    "    <li>work_location\n",
    "    <li>employment_conditions\n",
    "    <li>work_life_balance\n",
    "    <li>workload\n",
    "</ul>\n",
    "\n",
    "If any of the above were indicated by the employee as their reason for resignation, we will immediately mark them as 'dissatisfied'.\n",
    "\n"
   ]
  },
  {
   "cell_type": "code",
   "execution_count": 19,
   "metadata": {},
   "outputs": [
    {
     "name": "stdout",
     "output_type": "stream",
     "text": [
      "-                                         277\n",
      "Contributing Factors. Dissatisfaction      55\n",
      "Name: Contributing Factors. Dissatisfaction, dtype: int64\n",
      "\n",
      "-                      270\n",
      "Job Dissatisfaction     62\n",
      "Name: Contributing Factors. Job Dissatisfaction, dtype: int64\n"
     ]
    }
   ],
   "source": [
    "print(tafe_resignations['Contributing Factors. Dissatisfaction'].value_counts())\n",
    "print('')\n",
    "print(tafe_resignations['Contributing Factors. Job Dissatisfaction'].value_counts())"
   ]
  },
  {
   "cell_type": "code",
   "execution_count": 20,
   "metadata": {},
   "outputs": [],
   "source": [
    "# writing a function to update all values in the columns to either True or False\n",
    "\n",
    "def update_vals(val):\n",
    "    \"\"\"function that returns either np.NaN (if value is NaN),\n",
    "    False (if value is '-'), or True (all other values)\"\"\"\n",
    "    if pd.isnull(val):\n",
    "        return np.NaN\n",
    "    elif val == '-':\n",
    "        return False\n",
    "    else:\n",
    "        return True\n",
    "    "
   ]
  },
  {
   "cell_type": "code",
   "execution_count": 21,
   "metadata": {},
   "outputs": [],
   "source": [
    "# applying the update_vals function to TAFE dataset\n",
    "\n",
    "tafe_resignations['Contributing Factors. Dissatisfaction'] = tafe_resignations['Contributing Factors. Dissatisfaction'].apply(update_vals)\n",
    "tafe_resignations['Contributing Factors. Job Dissatisfaction'] = tafe_resignations['Contributing Factors. Job Dissatisfaction'].apply(update_vals)"
   ]
  },
  {
   "cell_type": "code",
   "execution_count": 22,
   "metadata": {},
   "outputs": [
    {
     "name": "stdout",
     "output_type": "stream",
     "text": [
      "False    277\n",
      "True      55\n",
      "Name: Contributing Factors. Dissatisfaction, dtype: int64\n",
      "\n",
      "False    270\n",
      "True      62\n",
      "Name: Contributing Factors. Job Dissatisfaction, dtype: int64\n"
     ]
    }
   ],
   "source": [
    "print(tafe_resignations['Contributing Factors. Dissatisfaction'].value_counts())\n",
    "print('')\n",
    "print(tafe_resignations['Contributing Factors. Job Dissatisfaction'].value_counts())"
   ]
  },
  {
   "cell_type": "code",
   "execution_count": 23,
   "metadata": {},
   "outputs": [
    {
     "data": {
      "text/html": [
       "<div>\n",
       "<style scoped>\n",
       "    .dataframe tbody tr th:only-of-type {\n",
       "        vertical-align: middle;\n",
       "    }\n",
       "\n",
       "    .dataframe tbody tr th {\n",
       "        vertical-align: top;\n",
       "    }\n",
       "\n",
       "    .dataframe thead th {\n",
       "        text-align: right;\n",
       "    }\n",
       "</style>\n",
       "<table border=\"1\" class=\"dataframe\">\n",
       "  <thead>\n",
       "    <tr style=\"text-align: right;\">\n",
       "      <th></th>\n",
       "      <th>Contributing Factors. Dissatisfaction</th>\n",
       "      <th>Contributing Factors. Job Dissatisfaction</th>\n",
       "    </tr>\n",
       "  </thead>\n",
       "  <tbody>\n",
       "    <tr>\n",
       "      <th>3</th>\n",
       "      <td>False</td>\n",
       "      <td>False</td>\n",
       "    </tr>\n",
       "    <tr>\n",
       "      <th>4</th>\n",
       "      <td>False</td>\n",
       "      <td>False</td>\n",
       "    </tr>\n",
       "    <tr>\n",
       "      <th>5</th>\n",
       "      <td>False</td>\n",
       "      <td>False</td>\n",
       "    </tr>\n",
       "    <tr>\n",
       "      <th>6</th>\n",
       "      <td>False</td>\n",
       "      <td>False</td>\n",
       "    </tr>\n",
       "    <tr>\n",
       "      <th>7</th>\n",
       "      <td>False</td>\n",
       "      <td>False</td>\n",
       "    </tr>\n",
       "    <tr>\n",
       "      <th>...</th>\n",
       "      <td>...</td>\n",
       "      <td>...</td>\n",
       "    </tr>\n",
       "    <tr>\n",
       "      <th>696</th>\n",
       "      <td>False</td>\n",
       "      <td>False</td>\n",
       "    </tr>\n",
       "    <tr>\n",
       "      <th>697</th>\n",
       "      <td>False</td>\n",
       "      <td>False</td>\n",
       "    </tr>\n",
       "    <tr>\n",
       "      <th>698</th>\n",
       "      <td>False</td>\n",
       "      <td>False</td>\n",
       "    </tr>\n",
       "    <tr>\n",
       "      <th>699</th>\n",
       "      <td>False</td>\n",
       "      <td>False</td>\n",
       "    </tr>\n",
       "    <tr>\n",
       "      <th>701</th>\n",
       "      <td>False</td>\n",
       "      <td>False</td>\n",
       "    </tr>\n",
       "  </tbody>\n",
       "</table>\n",
       "<p>340 rows × 2 columns</p>\n",
       "</div>"
      ],
      "text/plain": [
       "    Contributing Factors. Dissatisfaction  \\\n",
       "3                                   False   \n",
       "4                                   False   \n",
       "5                                   False   \n",
       "6                                   False   \n",
       "7                                   False   \n",
       "..                                    ...   \n",
       "696                                 False   \n",
       "697                                 False   \n",
       "698                                 False   \n",
       "699                                 False   \n",
       "701                                 False   \n",
       "\n",
       "    Contributing Factors. Job Dissatisfaction  \n",
       "3                                       False  \n",
       "4                                       False  \n",
       "5                                       False  \n",
       "6                                       False  \n",
       "7                                       False  \n",
       "..                                        ...  \n",
       "696                                     False  \n",
       "697                                     False  \n",
       "698                                     False  \n",
       "699                                     False  \n",
       "701                                     False  \n",
       "\n",
       "[340 rows x 2 columns]"
      ]
     },
     "execution_count": 23,
     "metadata": {},
     "output_type": "execute_result"
    }
   ],
   "source": [
    "tafe_resignations[['Contributing Factors. Dissatisfaction', 'Contributing Factors. Job Dissatisfaction']]"
   ]
  },
  {
   "cell_type": "code",
   "execution_count": 24,
   "metadata": {},
   "outputs": [],
   "source": [
    "# check if any truth values in any columns and writes to a new column 'dissatisfied'\n",
    "\n",
    "tafe_resignations['dissatisfied'] =  tafe_resignations[['Contributing Factors. Dissatisfaction',\n",
    "                                                      'Contributing Factors. Job Dissatisfaction']].any(axis=1, skipna=False)\n",
    "\n",
    "\n",
    "dete_resignations['dissatisfied'] = dete_resignations[['job_dissatisfaction',\n",
    "                                                         'dissatisfaction_with_the_department',\n",
    "                                                         'physical_work_environment',\n",
    "                                                         'lack_of_recognition',\n",
    "                                                         'lack_of_job_security',\n",
    "                                                         'work_location',\n",
    "                                                         'employment_conditions',\n",
    "                                                         'work_life_balance',\n",
    "                                                         'workload']].any(axis=1, skipna=False)\n"
   ]
  },
  {
   "cell_type": "code",
   "execution_count": 25,
   "metadata": {},
   "outputs": [
    {
     "name": "stdout",
     "output_type": "stream",
     "text": [
      "False    241\n",
      "True      91\n",
      "Name: dissatisfied, dtype: int64\n",
      "False    162\n",
      "True     149\n",
      "Name: dissatisfied, dtype: int64\n"
     ]
    }
   ],
   "source": [
    "print(tafe_resignations['dissatisfied'].value_counts())\n",
    "print(dete_resignations['dissatisfied'].value_counts())"
   ]
  },
  {
   "cell_type": "code",
   "execution_count": 26,
   "metadata": {},
   "outputs": [
    {
     "name": "stdout",
     "output_type": "stream",
     "text": [
      "(311, 38)\n",
      "(340, 24)\n"
     ]
    }
   ],
   "source": [
    "dete_resignations_up = dete_resignations.copy()\n",
    "tafe_resignations_up = tafe_resignations.copy()\n",
    "\n",
    "print(dete_resignations_up.shape)\n",
    "print(tafe_resignations_up.shape)"
   ]
  },
  {
   "cell_type": "markdown",
   "metadata": {},
   "source": [
    "We are now ready to combine both our datasets. Before doing so, we will create a column that allows us to distinguish between the DETE and TAFE datasets even after merging. We will be concatenating the datasets vertically (axis=0) so that we can later group the combined datasets' entries by the 'institute_service' column."
   ]
  },
  {
   "cell_type": "code",
   "execution_count": 27,
   "metadata": {},
   "outputs": [],
   "source": [
    "# creating the distinguishing column\n",
    "\n",
    "dete_resignations_up['institute'] = 'DETE'\n",
    "tafe_resignations_up['institute'] = 'TAFE'\n"
   ]
  },
  {
   "cell_type": "code",
   "execution_count": 28,
   "metadata": {},
   "outputs": [],
   "source": [
    "# combining the datasets\n",
    "\n",
    "combined = pd.concat([dete_resignations_up, tafe_resignations_up])\n"
   ]
  },
  {
   "cell_type": "code",
   "execution_count": 29,
   "metadata": {},
   "outputs": [
    {
     "name": "stdout",
     "output_type": "stream",
     "text": [
      "(651, 54)\n",
      "\n",
      "3      DETE\n",
      "5      DETE\n",
      "8      DETE\n",
      "9      DETE\n",
      "11     DETE\n",
      "       ... \n",
      "696    TAFE\n",
      "697    TAFE\n",
      "698    TAFE\n",
      "699    TAFE\n",
      "701    TAFE\n",
      "Name: institute, Length: 651, dtype: object\n",
      "\n",
      "               id separationtype cease_date  dete_start_date  role_start_date  \\\n",
      "698  6.350677e+17    Resignation     2013.0              NaN              NaN   \n",
      "699  6.350704e+17    Resignation     2013.0              NaN              NaN   \n",
      "701  6.350730e+17    Resignation     2013.0              NaN              NaN   \n",
      "\n",
      "                    position classification region business_unit  \\\n",
      "698                      NaN            NaN    NaN           NaN   \n",
      "699  Teacher (including LVT)            NaN    NaN           NaN   \n",
      "701      Administration (AO)            NaN    NaN           NaN   \n",
      "\n",
      "       employment_status  ... Contributing Factors. Ill Health  \\\n",
      "698                  NaN  ...                                -   \n",
      "699  Permanent Full-time  ...                                -   \n",
      "701      Contract/casual  ...                                -   \n",
      "\n",
      "    Contributing Factors. Maternity/Family  \\\n",
      "698                                      -   \n",
      "699                                      -   \n",
      "701                                      -   \n",
      "\n",
      "    Contributing Factors. Dissatisfaction  \\\n",
      "698                                 False   \n",
      "699                                 False   \n",
      "701                                 False   \n",
      "\n",
      "    Contributing Factors. Job Dissatisfaction  \\\n",
      "698                                     False   \n",
      "699                                     False   \n",
      "701                                     False   \n",
      "\n",
      "    Contributing Factors. Interpersonal Conflict Contributing Factors. Study  \\\n",
      "698                                            -                           -   \n",
      "699                                            -                           -   \n",
      "701                                            -                           -   \n",
      "\n",
      "    Contributing Factors. Travel Contributing Factors. Other  \\\n",
      "698                            -                           -   \n",
      "699                            -                       Other   \n",
      "701                       Travel                           -   \n",
      "\n",
      "    Contributing Factors. NONE role_service  \n",
      "698                          -          NaN  \n",
      "699                          -          1-2  \n",
      "701                          -          1-2  \n",
      "\n",
      "[3 rows x 54 columns]\n"
     ]
    }
   ],
   "source": [
    "# checking the combined dataset\n",
    "\n",
    "print(combined.shape)\n",
    "print('')\n",
    "print(combined['institute'])\n",
    "print('')\n",
    "print(combined.tail(3))"
   ]
  },
  {
   "cell_type": "markdown",
   "metadata": {},
   "source": [
    "We now proceed to drop columns that we will not be using for our analysis. We will be using the df.dropna() method to drop any columns with less than 500 null values."
   ]
  },
  {
   "cell_type": "code",
   "execution_count": 30,
   "metadata": {},
   "outputs": [],
   "source": [
    "# dropping useless columns\n",
    "\n",
    "combined_updated = combined.dropna(thresh=500, axis=1).copy()"
   ]
  },
  {
   "cell_type": "code",
   "execution_count": 31,
   "metadata": {},
   "outputs": [
    {
     "name": "stdout",
     "output_type": "stream",
     "text": [
      "Index(['id', 'separationtype', 'cease_date', 'position', 'employment_status',\n",
      "       'gender', 'age', 'institute_service', 'dissatisfied', 'institute'],\n",
      "      dtype='object')\n"
     ]
    }
   ],
   "source": [
    "print(combined_updated.columns)"
   ]
  },
  {
   "cell_type": "code",
   "execution_count": 32,
   "metadata": {},
   "outputs": [
    {
     "name": "stdout",
     "output_type": "stream",
     "text": [
      "NaN                   88\n",
      "Less than 1 year      73\n",
      "1-2                   64\n",
      "3-4                   63\n",
      "5-6                   33\n",
      "11-20                 26\n",
      "5.0                   23\n",
      "1.0                   22\n",
      "7-10                  21\n",
      "0.0                   20\n",
      "3.0                   20\n",
      "6.0                   17\n",
      "4.0                   16\n",
      "2.0                   14\n",
      "9.0                   14\n",
      "7.0                   13\n",
      "More than 20 years    10\n",
      "8.0                    8\n",
      "13.0                   8\n",
      "20.0                   7\n",
      "15.0                   7\n",
      "17.0                   6\n",
      "10.0                   6\n",
      "22.0                   6\n",
      "12.0                   6\n",
      "14.0                   6\n",
      "16.0                   5\n",
      "18.0                   5\n",
      "11.0                   4\n",
      "24.0                   4\n",
      "23.0                   4\n",
      "39.0                   3\n",
      "19.0                   3\n",
      "21.0                   3\n",
      "32.0                   3\n",
      "36.0                   2\n",
      "30.0                   2\n",
      "26.0                   2\n",
      "25.0                   2\n",
      "28.0                   2\n",
      "34.0                   1\n",
      "35.0                   1\n",
      "27.0                   1\n",
      "38.0                   1\n",
      "41.0                   1\n",
      "42.0                   1\n",
      "49.0                   1\n",
      "33.0                   1\n",
      "31.0                   1\n",
      "29.0                   1\n",
      "Name: institute_service, dtype: int64\n"
     ]
    }
   ],
   "source": [
    "print(combined_updated['institute_service'].value_counts(dropna=False))"
   ]
  },
  {
   "cell_type": "markdown",
   "metadata": {},
   "source": [
    "Looking at the above values in the 'institute_service' column, it is clear that there are a large number of unique values. As such, we will be categorising these values into several ranges, in accordance to the categories laid out in [this BusinessWire article](https://www.businesswire.com/news/home/20171108006002/en/Age-Number-Engage-Employees-Career-Stage). According to it, employees have different motivations and mindsets throughout the various stages in their career, as defined by how long they have been in service at a particular organisation. These are defined as:\n",
    "\n",
    "<ol>\n",
    "    <li> Newbie (0 - 3 years)\n",
    "    <li> Sophomore (4 - 7 years)\n",
    "    <li> Tenured (8 - 10 years)\n",
    "    <li> Sage (> 11 years)\n",
    "        "
   ]
  },
  {
   "cell_type": "markdown",
   "metadata": {},
   "source": [
    "As part of our cleaning, in order to match the above categories, we will be making the following conversions of the entries:\n",
    "<ul>\n",
    "    <li>'More than 20 years' => 20\n",
    "    <li>'Less than 1 year' => 0\n",
    "    <li>'11-20' => 11\n",
    "    <li>'7-10' => 8\n",
    "    <li>'1-2' => 1\n",
    "    <li>'3-4' => 3\n",
    "    <li>'5-6' => 5\n",
    "        "
   ]
  },
  {
   "cell_type": "code",
   "execution_count": 33,
   "metadata": {},
   "outputs": [],
   "source": [
    "# changing the dtype to str\n",
    "\n",
    "combined_updated['institute_service'] = combined_updated['institute_service'].astype(str)\n",
    "\n",
    "# replacing the year ranges as per above conversion list\n",
    "\n",
    "combined_updated['institute_service'] = combined_updated['institute_service'].str.replace('More than 20 years', '20').str.replace('Less than 1 year', '0')\n",
    "combined_updated['institute_service'] = combined_updated['institute_service'].str.replace('11-20', '11').str.replace('7-10', '8')\n",
    "combined_updated['institute_service'] = combined_updated['institute_service'].str.replace('1-2', '1').str.replace('3-4', '3').str.replace('5-6', '5')\n",
    "\n",
    "\n",
    "# changing the dtype to float\n",
    "\n",
    "combined_updated['institute_service'] = combined_updated['institute_service'].astype(float)\n"
   ]
  },
  {
   "cell_type": "code",
   "execution_count": 34,
   "metadata": {},
   "outputs": [
    {
     "name": "stdout",
     "output_type": "stream",
     "text": [
      "0.0     93\n",
      "NaN     88\n",
      "1.0     86\n",
      "3.0     83\n",
      "5.0     56\n",
      "11.0    30\n",
      "8.0     29\n",
      "20.0    17\n",
      "6.0     17\n",
      "4.0     16\n",
      "2.0     14\n",
      "9.0     14\n",
      "7.0     13\n",
      "13.0     8\n",
      "15.0     7\n",
      "14.0     6\n",
      "10.0     6\n",
      "12.0     6\n",
      "22.0     6\n",
      "17.0     6\n",
      "18.0     5\n",
      "16.0     5\n",
      "24.0     4\n",
      "23.0     4\n",
      "32.0     3\n",
      "39.0     3\n",
      "19.0     3\n",
      "21.0     3\n",
      "25.0     2\n",
      "28.0     2\n",
      "36.0     2\n",
      "26.0     2\n",
      "30.0     2\n",
      "49.0     1\n",
      "33.0     1\n",
      "34.0     1\n",
      "29.0     1\n",
      "35.0     1\n",
      "42.0     1\n",
      "27.0     1\n",
      "31.0     1\n",
      "41.0     1\n",
      "38.0     1\n",
      "Name: institute_service, dtype: int64\n",
      "(651,)\n"
     ]
    }
   ],
   "source": [
    "print(combined_updated['institute_service'].value_counts(dropna=False))\n",
    "print(combined_updated['institute_service'].shape)"
   ]
  },
  {
   "cell_type": "code",
   "execution_count": 35,
   "metadata": {},
   "outputs": [],
   "source": [
    "# creating a function that maps each value (and hence entry) to a category\n",
    "\n",
    "def service_cat_map(val):\n",
    "    \"\"\"function that returns different categories for each value of institute_service\"\"\"\n",
    "    \"\"\"refer to the above list for details on categorisation\"\"\"\n",
    "    \n",
    "    if (val >= 0) and (val<=3):\n",
    "        return 'Newbie'\n",
    "    elif (val >= 4) and (val <= 7):\n",
    "        return 'Sophomore'\n",
    "    elif (val >= 8) and (val <= 10):\n",
    "        return 'Tenured'\n",
    "    elif val > 10:\n",
    "        return 'Sage'\n",
    "    elif pd.isnull(val):\n",
    "        return np.NaN\n",
    "    \n",
    "    "
   ]
  },
  {
   "cell_type": "code",
   "execution_count": 36,
   "metadata": {},
   "outputs": [],
   "source": [
    "# applying the service_cat_map() function to the 'institute_service' column and assigning to new 'service_cat' column\n",
    "\n",
    "combined_updated['service_cat'] = combined_updated['institute_service'].apply(service_cat_map)"
   ]
  },
  {
   "cell_type": "code",
   "execution_count": 37,
   "metadata": {},
   "outputs": [
    {
     "name": "stdout",
     "output_type": "stream",
     "text": [
      "Newbie       276\n",
      "Sage         136\n",
      "Sophomore    102\n",
      "NaN           88\n",
      "Tenured       49\n",
      "Name: service_cat, dtype: int64\n",
      "(651,)\n"
     ]
    }
   ],
   "source": [
    "print(combined_updated['service_cat'].value_counts(dropna=False))\n",
    "print(combined_updated['service_cat'].shape)"
   ]
  },
  {
   "cell_type": "markdown",
   "metadata": {},
   "source": [
    "We now fill in the missing values in the 'dissatisfied' column by filling them in with the value that occurs most frequently in the column."
   ]
  },
  {
   "cell_type": "code",
   "execution_count": 38,
   "metadata": {},
   "outputs": [
    {
     "name": "stdout",
     "output_type": "stream",
     "text": [
      "False    403\n",
      "True     240\n",
      "NaN        8\n",
      "Name: dissatisfied, dtype: int64\n"
     ]
    }
   ],
   "source": [
    "print(combined_updated['dissatisfied'].value_counts(ascending=False, dropna=False))"
   ]
  },
  {
   "cell_type": "code",
   "execution_count": 39,
   "metadata": {},
   "outputs": [],
   "source": [
    "# fill in the missing values with False\n",
    "\n",
    "combined_updated['dissatisfied'].fillna(False, inplace=True)"
   ]
  },
  {
   "cell_type": "code",
   "execution_count": 40,
   "metadata": {},
   "outputs": [
    {
     "name": "stdout",
     "output_type": "stream",
     "text": [
      "False    411\n",
      "True     240\n",
      "Name: dissatisfied, dtype: int64\n"
     ]
    }
   ],
   "source": [
    "print(combined_updated['dissatisfied'].value_counts(ascending=False, dropna=False))"
   ]
  },
  {
   "cell_type": "markdown",
   "metadata": {},
   "source": [
    "We now use the DataFrame.pivot_table() method to calculate the percentage of dissatisfied employees in each service_cat group.\n",
    "\n",
    "Since a True value is considered to be 1, calculating the mean will also calculate the percentage of dissatisfied employees. "
   ]
  },
  {
   "cell_type": "code",
   "execution_count": 53,
   "metadata": {},
   "outputs": [
    {
     "name": "stdout",
     "output_type": "stream",
     "text": [
      "             dissatisfied\n",
      "service_cat              \n",
      "Newbie           0.289855\n",
      "Sage             0.485294\n",
      "Sophomore        0.431373\n",
      "Tenured          0.489796\n"
     ]
    }
   ],
   "source": [
    "combined_pivot = combined_updated.pivot_table(index='service_cat', values='dissatisfied')\n",
    "print(combined_pivot)"
   ]
  },
  {
   "cell_type": "markdown",
   "metadata": {},
   "source": [
    "We now plot a graph of the pivot table above."
   ]
  },
  {
   "cell_type": "code",
   "execution_count": 47,
   "metadata": {},
   "outputs": [],
   "source": [
    "import matplotlib.pyplot as plt\n",
    "\n",
    "%matplotlib inline\n"
   ]
  },
  {
   "cell_type": "code",
   "execution_count": 58,
   "metadata": {},
   "outputs": [
    {
     "data": {
      "image/png": "[encoded data removed]",
      "text/plain": [
       "<Figure size 432x288 with 1 Axes>"
      ]
     },
     "metadata": {
      "needs_background": "light"
     },
     "output_type": "display_data"
    }
   ],
   "source": [
    "combined_pivot.plot(kind='bar', y='dissatisfied', )\n",
    "\n",
    "plt.show()"
   ]
  },
  {
   "cell_type": "markdown",
   "metadata": {},
   "source": [
    "From the above plot, we see that newbies who have only been at the institute for a short amount of time (between 0 and 3 years) do not mostly resign due to dissatisfactions with the job as < 30% of them indicated that they were dissatisfied.\n",
    "\n",
    "On the other hand, a much larger proportion of employees who have been at the institute for a long time (such as Sages and Tenured employees) resigned due to dissatisfaction with the job, at close to 50% of each category."
   ]
  }
 ],
 "metadata": {
  "kernelspec": {
   "display_name": "Python 3",
   "language": "python",
   "name": "python3"
  },
  "language_info": {
   "codemirror_mode": {
    "name": "ipython",
    "version": 3
   },
   "file_extension": ".py",
   "mimetype": "text/x-python",
   "name": "python",
   "nbconvert_exporter": "python",
   "pygments_lexer": "ipython3",
   "version": "3.8.5"
  }
 },
 "nbformat": 4,
 "nbformat_minor": 2
}
